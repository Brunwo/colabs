{
  "nbformat": 4,
  "nbformat_minor": 0,
  "metadata": {
    "colab": {
      "provenance": [],
      "machine_shape": "hm",
      "gpuType": "A100"
    },
    "kernelspec": {
      "name": "python3",
      "display_name": "Python 3"
    },
    "language_info": {
      "name": "python"
    },
    "accelerator": "GPU"
  },
  "cells": [
    {
      "cell_type": "markdown",
      "source": [
        "All credits to https://github.com/naver/mast3r\n",
        "\n",
        "\n",
        "You will need A100 GPU to support the GPU ram requirements for the gradio APP (that means colab pro)\n",
        "\n",
        "You need you HF_TOKEN secret setup"
      ],
      "metadata": {
        "id": "spbISfThejVS"
      }
    },
    {
      "cell_type": "code",
      "execution_count": null,
      "metadata": {
        "id": "XQkCSynlR-c-"
      },
      "outputs": [],
      "source": [
        "!git clone --recursive https://github.com/naver/mast3r\n",
        "%cd mast3r"
      ]
    },
    {
      "cell_type": "code",
      "source": [
        "!pip install -r requirements.txt\n",
        "!pip install -r dust3r/requirements.txt\n",
        "# Optional: you can also install additional packages to:\n",
        "# - add support for HEIC images\n",
        "# - add required packages for visloc.py\n",
        "!pip install -r dust3r/requirements_optional.txt\n",
        "\n",
        "# DUST3R relies on RoPE positional embeddings for which you can compile some cuda kernels for faster runtime.\n",
        "#will ask for runtime restart\n",
        "%cd dust3r/croco/models/curope/\n",
        "!python setup.py build_ext --inplace"
      ],
      "metadata": {
        "id": "yYyrBS7DSIeh"
      },
      "execution_count": null,
      "outputs": []
    },
    {
      "cell_type": "markdown",
      "source": [
        "line 273 of demo.py :\n",
        "\n",
        "To create a public link, set `share=True` in `launch()`."
      ],
      "metadata": {
        "id": "jJsBJyJsXfdl"
      }
    },
    {
      "cell_type": "code",
      "source": [
        "!sed -i '273s/share=False/share=True/' demo.py"
      ],
      "metadata": {
        "id": "SUa7d7dPhQNH"
      },
      "execution_count": null,
      "outputs": []
    },
    {
      "cell_type": "code",
      "source": [
        "%cd /content/mast3r/\n",
        "!python3 demo.py --model_name MASt3R_ViTLarge_BaseDecoder_512_catmlpdpt_metric\n",
        "\n",
        "# Use --weights to load a checkpoint from a local file, eg --weights checkpoints/MASt3R_ViTLarge_BaseDecoder_512_catmlpdpt_metric.pth\n",
        "# Use --local_network to make it accessible on the local network, or --server_name to specify the url manually\n",
        "# Use --server_port to change the port, by default it will search for an available port starting at 7860\n",
        "# Use --device to use a different device, by default it's \"cuda\"\n",
        "\n",
        "\n",
        "#demo_dust3r_ga.py is the same demo as in dust3r (+ compatibility for MASt3R models)\n",
        "#see https://github.com/naver/dust3r?tab=readme-ov-file#interactive-demo for details"
      ],
      "metadata": {
        "id": "eCf66t5jVXzw"
      },
      "execution_count": null,
      "outputs": []
    },
    {
      "cell_type": "markdown",
      "source": [
        "# More code snippets .. extras\n"
      ],
      "metadata": {
        "id": "tqlTgtvge80m"
      }
    },
    {
      "cell_type": "code",
      "source": [
        "#direct download checkpoint \\\n",
        "\n",
        "!mkdir -p checkpoints/\n",
        "!wget https://download.europe.naverlabs.com/ComputerVision/MASt3R/MASt3R_ViTLarge_BaseDecoder_512_catmlpdpt_metric.pth -P checkpoints/"
      ],
      "metadata": {
        "id": "IBIuE8MbSRuk"
      },
      "execution_count": null,
      "outputs": []
    },
    {
      "cell_type": "code",
      "source": [
        "#code sample provided in repo\n",
        "\n",
        "from mast3r.model import AsymmetricMASt3R\n",
        "from mast3r.fast_nn import fast_reciprocal_NNs\n",
        "\n",
        "import mast3r.utils.path_to_dust3r\n",
        "from dust3r.inference import inference\n",
        "from dust3r.utils.image import load_images\n",
        "\n",
        "if __name__ == '__main__':\n",
        "    device = 'cuda'\n",
        "    schedule = 'cosine'\n",
        "    lr = 0.01\n",
        "    niter = 300\n",
        "\n",
        "    model_name = \"naver/MASt3R_ViTLarge_BaseDecoder_512_catmlpdpt_metric\"\n",
        "    # you can put the path to a local checkpoint in model_name if needed\n",
        "    model = AsymmetricMASt3R.from_pretrained(model_name).to(device)\n",
        "    images = load_images(['dust3r/croco/assets/Chateau1.png', 'dust3r/croco/assets/Chateau2.png'], size=512)\n",
        "    output = inference([tuple(images)], model, device, batch_size=1, verbose=False)\n",
        "\n",
        "    # at this stage, you have the raw dust3r predictions\n",
        "    view1, pred1 = output['view1'], output['pred1']\n",
        "    view2, pred2 = output['view2'], output['pred2']\n",
        "\n",
        "    desc1, desc2 = pred1['desc'].squeeze(0).detach(), pred2['desc'].squeeze(0).detach()\n",
        "\n",
        "    # find 2D-2D matches between the two images\n",
        "    matches_im0, matches_im1 = fast_reciprocal_NNs(desc1, desc2, subsample_or_initxy1=8,\n",
        "                                                   device=device, dist='dot', block_size=2**13)\n",
        "\n",
        "    # ignore small border around the edge\n",
        "    H0, W0 = view1['true_shape'][0]\n",
        "    valid_matches_im0 = (matches_im0[:, 0] >= 3) & (matches_im0[:, 0] < int(W0) - 3) & (\n",
        "        matches_im0[:, 1] >= 3) & (matches_im0[:, 1] < int(H0) - 3)\n",
        "\n",
        "    H1, W1 = view2['true_shape'][0]\n",
        "    valid_matches_im1 = (matches_im1[:, 0] >= 3) & (matches_im1[:, 0] < int(W1) - 3) & (\n",
        "        matches_im1[:, 1] >= 3) & (matches_im1[:, 1] < int(H1) - 3)\n",
        "\n",
        "    valid_matches = valid_matches_im0 & valid_matches_im1\n",
        "    matches_im0, matches_im1 = matches_im0[valid_matches], matches_im1[valid_matches]\n",
        "\n",
        "    # visualize a few matches\n",
        "    import numpy as np\n",
        "    import torch\n",
        "    import torchvision.transforms.functional\n",
        "    from matplotlib import pyplot as pl\n",
        "\n",
        "    n_viz = 20\n",
        "    num_matches = matches_im0.shape[0]\n",
        "    match_idx_to_viz = np.round(np.linspace(0, num_matches - 1, n_viz)).astype(int)\n",
        "    viz_matches_im0, viz_matches_im1 = matches_im0[match_idx_to_viz], matches_im1[match_idx_to_viz]\n",
        "\n",
        "    image_mean = torch.as_tensor([0.5, 0.5, 0.5], device='cpu').reshape(1, 3, 1, 1)\n",
        "    image_std = torch.as_tensor([0.5, 0.5, 0.5], device='cpu').reshape(1, 3, 1, 1)\n",
        "\n",
        "    viz_imgs = []\n",
        "    for i, view in enumerate([view1, view2]):\n",
        "        rgb_tensor = view['img'] * image_std + image_mean\n",
        "        viz_imgs.append(rgb_tensor.squeeze(0).permute(1, 2, 0).cpu().numpy())\n",
        "\n",
        "    H0, W0, H1, W1 = *viz_imgs[0].shape[:2], *viz_imgs[1].shape[:2]\n",
        "    img0 = np.pad(viz_imgs[0], ((0, max(H1 - H0, 0)), (0, 0), (0, 0)), 'constant', constant_values=0)\n",
        "    img1 = np.pad(viz_imgs[1], ((0, max(H0 - H1, 0)), (0, 0), (0, 0)), 'constant', constant_values=0)\n",
        "    img = np.concatenate((img0, img1), axis=1)\n",
        "    pl.figure()\n",
        "    pl.imshow(img)\n",
        "    cmap = pl.get_cmap('jet')\n",
        "    for i in range(n_viz):\n",
        "        (x0, y0), (x1, y1) = viz_matches_im0[i].T, viz_matches_im1[i].T\n",
        "        pl.plot([x0, x1 + W0], [y0, y1], '-+', color=cmap(i / (n_viz - 1)), scalex=False, scaley=False)\n",
        "    pl.show(block=True)"
      ],
      "metadata": {
        "id": "mV5PUOQNSwPT"
      },
      "execution_count": null,
      "outputs": []
    }
  ]
}